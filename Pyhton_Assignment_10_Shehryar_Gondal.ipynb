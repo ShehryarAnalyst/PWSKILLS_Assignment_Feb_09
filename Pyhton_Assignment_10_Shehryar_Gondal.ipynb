{
 "cells": [
  {
   "cell_type": "markdown",
   "id": "38ea8d80",
   "metadata": {},
   "source": [
    "## Assignments  Question"
   ]
  },
  {
   "cell_type": "markdown",
   "id": "35590a5a",
   "metadata": {},
   "source": [
    "__Q1)Create a vehicle class with an init method having instance variables as name_of_vehicle, max_speed and average_of_vehicle.__"
   ]
  },
  {
   "cell_type": "code",
   "execution_count": 1,
   "id": "9e8525a5",
   "metadata": {},
   "outputs": [],
   "source": [
    "class Vehicle:\n",
    "    \n",
    "    def __init__(self,name_vehicle,max_speed_vehicle,average_of_vehicle):\n",
    "        self.name_vehicle=name_vehicle\n",
    "        self.max_speed_vehicle=max_speed_vehicle\n",
    "        self.average_of_vehicle=average_of_vehicle\n",
    "        "
   ]
  },
  {
   "cell_type": "markdown",
   "id": "5f099511",
   "metadata": {},
   "source": [
    "__Q2. Create a child class car from the vehicle class created in Que 1, which will inherit the vehicle class. Create a method named seating_capacity which takes capacity as an argument and returns the name of the vehicle and its seating capacity.__"
   ]
  },
  {
   "cell_type": "code",
   "execution_count": 24,
   "id": "a2bb7f9f",
   "metadata": {},
   "outputs": [],
   "source": [
    "class Car(Vehicle):\n",
    "    \n",
    "    def seating_capacity(self,capacity):\n",
    "        return self.name_vehicle,capacity\n"
   ]
  },
  {
   "cell_type": "code",
   "execution_count": 25,
   "id": "3897f4c7",
   "metadata": {},
   "outputs": [],
   "source": [
    "obj=Car(\"Honda\",100,45)"
   ]
  },
  {
   "cell_type": "code",
   "execution_count": 26,
   "id": "d64cb2a8",
   "metadata": {},
   "outputs": [
    {
     "data": {
      "text/plain": [
       "('Honda', 4)"
      ]
     },
     "execution_count": 26,
     "metadata": {},
     "output_type": "execute_result"
    }
   ],
   "source": [
    "obj.seating_capacity(4)"
   ]
  },
  {
   "cell_type": "markdown",
   "id": "92ce0f9a",
   "metadata": {},
   "source": [
    "__Q3. What is multiple inheritance? Write a python code to demonstrate multiple inheritance.__\n",
    "\n",
    "__Ans)__ Multiple inheritance is a feature of object-oriented programming where a subclass can inherit properties and behavior from more than one parent class.\n",
    "\n",
    "In Python, you can implement multiple inheritance by listing the parent classes in the class definition separated by commas. When a method is called on an object of the subclass, it first looks for the method in the subclass, then in the first parent class listed, then in the second parent class, and so on.\n",
    "E.g: <br>"
   ]
  },
  {
   "cell_type": "code",
   "execution_count": 27,
   "id": "db5396f4",
   "metadata": {},
   "outputs": [
    {
     "name": "stdout",
     "output_type": "stream",
     "text": [
      "This is method A\n",
      "This is method B\n",
      "This is method C\n"
     ]
    }
   ],
   "source": [
    "class A:\n",
    "    def method_a(self):\n",
    "        print(\"This is method A\")\n",
    "\n",
    "class B:\n",
    "    def method_b(self):\n",
    "        print(\"This is method B\")\n",
    "\n",
    "class C(A, B):\n",
    "    def method_c(self):\n",
    "        print(\"This is method C\")\n",
    "\n",
    "obj = C()\n",
    "obj.method_a() # output: This is method A\n",
    "obj.method_b() # output: This is method B\n",
    "obj.method_c() # output: This is method C"
   ]
  },
  {
   "cell_type": "markdown",
   "id": "15c14fa0",
   "metadata": {},
   "source": [
    "__Q4. What are getter and setter in python? Create a class and create a getter and a setter method in this class.__ <br>\n",
    "\n",
    "__Ans)__ A __getter method__, also known as an accessor method, is used to retrieve the value of an instance variable. It is usually named with the prefix \"get_\" followed by the name of the variable. The getter method is typically defined using the @property decorator.\n",
    "\n",
    "A __setter method__, also known as a mutator method, is used to modify the value of an instance variable. It is usually named with the prefix \"set_\" followed by the name of the variable. The setter method is typically defined using the @<variable_name>.setter decorator."
   ]
  },
  {
   "cell_type": "code",
   "execution_count": 28,
   "id": "186f4e83",
   "metadata": {},
   "outputs": [],
   "source": [
    "class pwskills :\n",
    "    \n",
    "    def __init__(self , course_price , coruse_name):\n",
    "        \n",
    "        self.__course_price = course_price\n",
    "        self.course_name = coruse_name\n",
    "        \n",
    "    @property\n",
    "    def course_price_access(self) : \n",
    "        return self.__course_price\n",
    "        \n",
    "    \n",
    "    @course_price_access.setter\n",
    "    def course_price_set(self , price ):\n",
    "        if price <= 3500:\n",
    "            pass\n",
    "        else :\n",
    "            self.__course_price = price\n",
    "            \n",
    "    @course_price_access.deleter\n",
    "    def delete_course_price(self) : \n",
    "        del self.__course_price"
   ]
  },
  {
   "cell_type": "markdown",
   "id": "07f5e0db",
   "metadata": {},
   "source": [
    "__Q5. What is method overriding in python? Write a python code to demonstrate method overriding. <br>\n",
    "\n",
    "__Ans)__ Method overriding is a feature of object-oriented programming where a subclass provides a different implementation of a method that is already defined in its parent class. The method in the subclass has the same name and signature as the method in the parent class.\n",
    "\n",
    "In Python, method overriding is achieved by defining a method in the subclass with the same name as the method in the parent class. When the method is called on an object of the subclass, the implementation of the method in the subclass is used instead of the implementation in the parent class. <br>\n",
    "E.g:"
   ]
  },
  {
   "cell_type": "code",
   "execution_count": 31,
   "id": "86a249d3",
   "metadata": {},
   "outputs": [
    {
     "name": "stdout",
     "output_type": "stream",
     "text": [
      "The animal makes a sound.\n",
      "The dog barks.\n"
     ]
    }
   ],
   "source": [
    "class Animal:\n",
    "    def make_sound(self):\n",
    "        print(\"The animal makes a sound.\")\n",
    "\n",
    "class cat(Animal):\n",
    "    def make_sound(self):\n",
    "        print(\"The dog barks.\")\n",
    "\n",
    "# Create an object of Animal class\n",
    "a = Animal()\n",
    "\n",
    "# Create an object of cat class\n",
    "d = cat()\n",
    "\n",
    "a.make_sound()\n",
    "d.make_sound() \n"
   ]
  },
  {
   "cell_type": "markdown",
   "id": "8a83dafd",
   "metadata": {},
   "source": [
    "-------------------------------------------------------------------------------------------- __End__----------------------------------------------------------------------------------------------------------------"
   ]
  },
  {
   "cell_type": "code",
   "execution_count": null,
   "id": "3bf54fc9",
   "metadata": {},
   "outputs": [],
   "source": []
  }
 ],
 "metadata": {
  "kernelspec": {
   "display_name": "Python 3 (ipykernel)",
   "language": "python",
   "name": "python3"
  },
  "language_info": {
   "codemirror_mode": {
    "name": "ipython",
    "version": 3
   },
   "file_extension": ".py",
   "mimetype": "text/x-python",
   "name": "python",
   "nbconvert_exporter": "python",
   "pygments_lexer": "ipython3",
   "version": "3.9.12"
  },
  "varInspector": {
   "cols": {
    "lenName": 16,
    "lenType": 16,
    "lenVar": 40
   },
   "kernels_config": {
    "python": {
     "delete_cmd_postfix": "",
     "delete_cmd_prefix": "del ",
     "library": "var_list.py",
     "varRefreshCmd": "print(var_dic_list())"
    },
    "r": {
     "delete_cmd_postfix": ") ",
     "delete_cmd_prefix": "rm(",
     "library": "var_list.r",
     "varRefreshCmd": "cat(var_dic_list()) "
    }
   },
   "types_to_exclude": [
    "module",
    "function",
    "builtin_function_or_method",
    "instance",
    "_Feature"
   ],
   "window_display": false
  }
 },
 "nbformat": 4,
 "nbformat_minor": 5
}
